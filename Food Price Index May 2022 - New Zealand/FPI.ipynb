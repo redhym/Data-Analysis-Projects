{
 "cells": [
  {
   "cell_type": "code",
   "execution_count": 1,
   "id": "8bb5c82a",
   "metadata": {
    "_cell_guid": "b1076dfc-b9ad-4769-8c92-a6c4dae69d19",
    "_uuid": "8f2839f25d086af736a60e9eeb907d3b93b6e0e5",
    "execution": {
     "iopub.execute_input": "2022-06-24T11:40:47.406578Z",
     "iopub.status.busy": "2022-06-24T11:40:47.405931Z",
     "iopub.status.idle": "2022-06-24T11:40:48.575955Z",
     "shell.execute_reply": "2022-06-24T11:40:48.574970Z"
    },
    "papermill": {
     "duration": 1.183418,
     "end_time": "2022-06-24T11:40:48.578556",
     "exception": false,
     "start_time": "2022-06-24T11:40:47.395138",
     "status": "completed"
    },
    "tags": []
   },
   "outputs": [
    {
     "name": "stdout",
     "output_type": "stream",
     "text": [
      "/kaggle/input/food-price-index-may-2022/food-price-index-may-2022-index-numbers-csv.csv\n",
      "/kaggle/input/food-price-index-may-2022/food-price-index-may-2022-weighted-average-prices-csv.csv\n"
     ]
    }
   ],
   "source": [
    "# This Python 3 environment comes with many helpful analytics libraries installed\n",
    "# It is defined by the kaggle/python Docker image: https://github.com/kaggle/docker-python\n",
    "# For example, here's several helpful packages to load\n",
    "\n",
    "\n",
    "import numpy as np # linear algebra\n",
    "import pandas as pd # data processing, CSV file I/O (e.g. pd.read_csv)\n",
    "import matplotlib.pyplot as plt # for plotting\n",
    "import matplotlib.dates as mdates # represents dates\n",
    "import seaborn as sns # for visualization\n",
    "\n",
    "import os # accessing directory structure\n",
    "\n",
    "# Input data files are available in the read-only \"../input/\" directory\n",
    "# For example, running this (by clicking run or pressing Shift+Enter) will list all files under the input directory\n",
    "\n",
    "import os\n",
    "for dirname, _, filenames in os.walk('/kaggle/input'):\n",
    "    for filename in filenames:\n",
    "        print(os.path.join(dirname, filename))\n",
    "\n",
    "# You can write up to 20GB to the current directory (/kaggle/working/) that gets preserved as output when you create a version using \"Save & Run All\" \n",
    "# You can also write temporary files to /kaggle/temp/, but they won't be saved outside of the current session"
   ]
  },
  {
   "cell_type": "code",
   "execution_count": 2,
   "id": "1b562f79",
   "metadata": {
    "execution": {
     "iopub.execute_input": "2022-06-24T11:40:48.596522Z",
     "iopub.status.busy": "2022-06-24T11:40:48.596138Z",
     "iopub.status.idle": "2022-06-24T11:40:48.659086Z",
     "shell.execute_reply": "2022-06-24T11:40:48.658440Z"
    },
    "papermill": {
     "duration": 0.074258,
     "end_time": "2022-06-24T11:40:48.661150",
     "exception": false,
     "start_time": "2022-06-24T11:40:48.586892",
     "status": "completed"
    },
    "tags": []
   },
   "outputs": [
    {
     "data": {
      "text/html": [
       "<div>\n",
       "<style scoped>\n",
       "    .dataframe tbody tr th:only-of-type {\n",
       "        vertical-align: middle;\n",
       "    }\n",
       "\n",
       "    .dataframe tbody tr th {\n",
       "        vertical-align: top;\n",
       "    }\n",
       "\n",
       "    .dataframe thead th {\n",
       "        text-align: right;\n",
       "    }\n",
       "</style>\n",
       "<table border=\"1\" class=\"dataframe\">\n",
       "  <thead>\n",
       "    <tr style=\"text-align: right;\">\n",
       "      <th></th>\n",
       "      <th>Series_reference</th>\n",
       "      <th>Period</th>\n",
       "      <th>Data_value</th>\n",
       "      <th>STATUS</th>\n",
       "      <th>UNITS</th>\n",
       "      <th>Subject</th>\n",
       "      <th>Group</th>\n",
       "      <th>Series_title_1</th>\n",
       "    </tr>\n",
       "  </thead>\n",
       "  <tbody>\n",
       "    <tr>\n",
       "      <th>0</th>\n",
       "      <td>CPIM.SE901</td>\n",
       "      <td>1960.01</td>\n",
       "      <td>45.923461</td>\n",
       "      <td>FINAL</td>\n",
       "      <td>Index</td>\n",
       "      <td>Consumers Price Index - CPI</td>\n",
       "      <td>Food Price Index for New Zealand</td>\n",
       "      <td>Food</td>\n",
       "    </tr>\n",
       "    <tr>\n",
       "      <th>1</th>\n",
       "      <td>CPIM.SE901</td>\n",
       "      <td>1960.02</td>\n",
       "      <td>45.498637</td>\n",
       "      <td>FINAL</td>\n",
       "      <td>Index</td>\n",
       "      <td>Consumers Price Index - CPI</td>\n",
       "      <td>Food Price Index for New Zealand</td>\n",
       "      <td>Food</td>\n",
       "    </tr>\n",
       "    <tr>\n",
       "      <th>2</th>\n",
       "      <td>CPIM.SE901</td>\n",
       "      <td>1960.03</td>\n",
       "      <td>45.116296</td>\n",
       "      <td>FINAL</td>\n",
       "      <td>Index</td>\n",
       "      <td>Consumers Price Index - CPI</td>\n",
       "      <td>Food Price Index for New Zealand</td>\n",
       "      <td>Food</td>\n",
       "    </tr>\n",
       "    <tr>\n",
       "      <th>3</th>\n",
       "      <td>CPIM.SE901</td>\n",
       "      <td>1960.04</td>\n",
       "      <td>45.158779</td>\n",
       "      <td>FINAL</td>\n",
       "      <td>Index</td>\n",
       "      <td>Consumers Price Index - CPI</td>\n",
       "      <td>Food Price Index for New Zealand</td>\n",
       "      <td>Food</td>\n",
       "    </tr>\n",
       "    <tr>\n",
       "      <th>4</th>\n",
       "      <td>CPIM.SE901</td>\n",
       "      <td>1960.05</td>\n",
       "      <td>45.286226</td>\n",
       "      <td>FINAL</td>\n",
       "      <td>Index</td>\n",
       "      <td>Consumers Price Index - CPI</td>\n",
       "      <td>Food Price Index for New Zealand</td>\n",
       "      <td>Food</td>\n",
       "    </tr>\n",
       "  </tbody>\n",
       "</table>\n",
       "</div>"
      ],
      "text/plain": [
       "  Series_reference   Period  Data_value STATUS  UNITS  \\\n",
       "0       CPIM.SE901  1960.01   45.923461  FINAL  Index   \n",
       "1       CPIM.SE901  1960.02   45.498637  FINAL  Index   \n",
       "2       CPIM.SE901  1960.03   45.116296  FINAL  Index   \n",
       "3       CPIM.SE901  1960.04   45.158779  FINAL  Index   \n",
       "4       CPIM.SE901  1960.05   45.286226  FINAL  Index   \n",
       "\n",
       "                       Subject                             Group  \\\n",
       "0  Consumers Price Index - CPI  Food Price Index for New Zealand   \n",
       "1  Consumers Price Index - CPI  Food Price Index for New Zealand   \n",
       "2  Consumers Price Index - CPI  Food Price Index for New Zealand   \n",
       "3  Consumers Price Index - CPI  Food Price Index for New Zealand   \n",
       "4  Consumers Price Index - CPI  Food Price Index for New Zealand   \n",
       "\n",
       "  Series_title_1  \n",
       "0           Food  \n",
       "1           Food  \n",
       "2           Food  \n",
       "3           Food  \n",
       "4           Food  "
      ]
     },
     "execution_count": 2,
     "metadata": {},
     "output_type": "execute_result"
    }
   ],
   "source": [
    "df = pd.read_csv(\"/kaggle/input/food-price-index-may-2022/food-price-index-may-2022-index-numbers-csv.csv\")\n",
    "df.head()"
   ]
  },
  {
   "cell_type": "code",
   "execution_count": 3,
   "id": "98d87ca5",
   "metadata": {
    "execution": {
     "iopub.execute_input": "2022-06-24T11:40:48.680593Z",
     "iopub.status.busy": "2022-06-24T11:40:48.679732Z",
     "iopub.status.idle": "2022-06-24T11:40:48.709916Z",
     "shell.execute_reply": "2022-06-24T11:40:48.708460Z"
    },
    "papermill": {
     "duration": 0.042563,
     "end_time": "2022-06-24T11:40:48.712503",
     "exception": false,
     "start_time": "2022-06-24T11:40:48.669940",
     "status": "completed"
    },
    "tags": []
   },
   "outputs": [
    {
     "name": "stdout",
     "output_type": "stream",
     "text": [
      "<class 'pandas.core.frame.DataFrame'>\n",
      "RangeIndex: 12276 entries, 0 to 12275\n",
      "Data columns (total 8 columns):\n",
      " #   Column            Non-Null Count  Dtype  \n",
      "---  ------            --------------  -----  \n",
      " 0   Series_reference  12276 non-null  object \n",
      " 1   Period            12276 non-null  float64\n",
      " 2   Data_value        12273 non-null  float64\n",
      " 3   STATUS            12276 non-null  object \n",
      " 4   UNITS             12276 non-null  object \n",
      " 5   Subject           12276 non-null  object \n",
      " 6   Group             12276 non-null  object \n",
      " 7   Series_title_1    12276 non-null  object \n",
      "dtypes: float64(2), object(6)\n",
      "memory usage: 767.4+ KB\n"
     ]
    }
   ],
   "source": [
    "df.info()"
   ]
  },
  {
   "cell_type": "code",
   "execution_count": 4,
   "id": "eb2ba68c",
   "metadata": {
    "execution": {
     "iopub.execute_input": "2022-06-24T11:40:48.726343Z",
     "iopub.status.busy": "2022-06-24T11:40:48.725980Z",
     "iopub.status.idle": "2022-06-24T11:40:48.759888Z",
     "shell.execute_reply": "2022-06-24T11:40:48.758295Z"
    },
    "papermill": {
     "duration": 0.042602,
     "end_time": "2022-06-24T11:40:48.761712",
     "exception": false,
     "start_time": "2022-06-24T11:40:48.719110",
     "status": "completed"
    },
    "tags": []
   },
   "outputs": [
    {
     "data": {
      "text/html": [
       "<div>\n",
       "<style scoped>\n",
       "    .dataframe tbody tr th:only-of-type {\n",
       "        vertical-align: middle;\n",
       "    }\n",
       "\n",
       "    .dataframe tbody tr th {\n",
       "        vertical-align: top;\n",
       "    }\n",
       "\n",
       "    .dataframe thead th {\n",
       "        text-align: right;\n",
       "    }\n",
       "</style>\n",
       "<table border=\"1\" class=\"dataframe\">\n",
       "  <thead>\n",
       "    <tr style=\"text-align: right;\">\n",
       "      <th></th>\n",
       "      <th>Series_reference</th>\n",
       "      <th>Period</th>\n",
       "      <th>Data_value</th>\n",
       "      <th>STATUS</th>\n",
       "      <th>UNITS</th>\n",
       "      <th>Subject</th>\n",
       "      <th>Group</th>\n",
       "      <th>Series_title_1</th>\n",
       "    </tr>\n",
       "  </thead>\n",
       "  <tbody>\n",
       "    <tr>\n",
       "      <th>0</th>\n",
       "      <td>CPIM.SE901</td>\n",
       "      <td>1960-01-01</td>\n",
       "      <td>45.923461</td>\n",
       "      <td>FINAL</td>\n",
       "      <td>Index</td>\n",
       "      <td>Consumers Price Index - CPI</td>\n",
       "      <td>Food Price Index for New Zealand</td>\n",
       "      <td>Food</td>\n",
       "    </tr>\n",
       "    <tr>\n",
       "      <th>1</th>\n",
       "      <td>CPIM.SE901</td>\n",
       "      <td>1960-02-01</td>\n",
       "      <td>45.498637</td>\n",
       "      <td>FINAL</td>\n",
       "      <td>Index</td>\n",
       "      <td>Consumers Price Index - CPI</td>\n",
       "      <td>Food Price Index for New Zealand</td>\n",
       "      <td>Food</td>\n",
       "    </tr>\n",
       "    <tr>\n",
       "      <th>2</th>\n",
       "      <td>CPIM.SE901</td>\n",
       "      <td>1960-03-01</td>\n",
       "      <td>45.116296</td>\n",
       "      <td>FINAL</td>\n",
       "      <td>Index</td>\n",
       "      <td>Consumers Price Index - CPI</td>\n",
       "      <td>Food Price Index for New Zealand</td>\n",
       "      <td>Food</td>\n",
       "    </tr>\n",
       "    <tr>\n",
       "      <th>3</th>\n",
       "      <td>CPIM.SE901</td>\n",
       "      <td>1960-04-01</td>\n",
       "      <td>45.158779</td>\n",
       "      <td>FINAL</td>\n",
       "      <td>Index</td>\n",
       "      <td>Consumers Price Index - CPI</td>\n",
       "      <td>Food Price Index for New Zealand</td>\n",
       "      <td>Food</td>\n",
       "    </tr>\n",
       "    <tr>\n",
       "      <th>4</th>\n",
       "      <td>CPIM.SE901</td>\n",
       "      <td>1960-05-01</td>\n",
       "      <td>45.286226</td>\n",
       "      <td>FINAL</td>\n",
       "      <td>Index</td>\n",
       "      <td>Consumers Price Index - CPI</td>\n",
       "      <td>Food Price Index for New Zealand</td>\n",
       "      <td>Food</td>\n",
       "    </tr>\n",
       "  </tbody>\n",
       "</table>\n",
       "</div>"
      ],
      "text/plain": [
       "  Series_reference     Period  Data_value STATUS  UNITS  \\\n",
       "0       CPIM.SE901 1960-01-01   45.923461  FINAL  Index   \n",
       "1       CPIM.SE901 1960-02-01   45.498637  FINAL  Index   \n",
       "2       CPIM.SE901 1960-03-01   45.116296  FINAL  Index   \n",
       "3       CPIM.SE901 1960-04-01   45.158779  FINAL  Index   \n",
       "4       CPIM.SE901 1960-05-01   45.286226  FINAL  Index   \n",
       "\n",
       "                       Subject                             Group  \\\n",
       "0  Consumers Price Index - CPI  Food Price Index for New Zealand   \n",
       "1  Consumers Price Index - CPI  Food Price Index for New Zealand   \n",
       "2  Consumers Price Index - CPI  Food Price Index for New Zealand   \n",
       "3  Consumers Price Index - CPI  Food Price Index for New Zealand   \n",
       "4  Consumers Price Index - CPI  Food Price Index for New Zealand   \n",
       "\n",
       "  Series_title_1  \n",
       "0           Food  \n",
       "1           Food  \n",
       "2           Food  \n",
       "3           Food  \n",
       "4           Food  "
      ]
     },
     "execution_count": 4,
     "metadata": {},
     "output_type": "execute_result"
    }
   ],
   "source": [
    "df['Period'] = pd.to_datetime(df['Period'].astype(str), format='%Y.%m') # convert date datatype from float to datetime\n",
    "df.head()"
   ]
  },
  {
   "cell_type": "code",
   "execution_count": 5,
   "id": "558025f9",
   "metadata": {
    "execution": {
     "iopub.execute_input": "2022-06-24T11:40:48.774317Z",
     "iopub.status.busy": "2022-06-24T11:40:48.773881Z",
     "iopub.status.idle": "2022-06-24T11:40:48.782217Z",
     "shell.execute_reply": "2022-06-24T11:40:48.781677Z"
    },
    "papermill": {
     "duration": 0.016529,
     "end_time": "2022-06-24T11:40:48.783776",
     "exception": false,
     "start_time": "2022-06-24T11:40:48.767247",
     "status": "completed"
    },
    "tags": []
   },
   "outputs": [
    {
     "data": {
      "text/plain": [
       "Series_reference    0\n",
       "Period              0\n",
       "Data_value          3\n",
       "STATUS              0\n",
       "UNITS               0\n",
       "Subject             0\n",
       "Group               0\n",
       "Series_title_1      0\n",
       "dtype: int64"
      ]
     },
     "execution_count": 5,
     "metadata": {},
     "output_type": "execute_result"
    }
   ],
   "source": [
    "df.isna().sum() # Returns number of missing values"
   ]
  },
  {
   "cell_type": "code",
   "execution_count": 6,
   "id": "a4a4698b",
   "metadata": {
    "execution": {
     "iopub.execute_input": "2022-06-24T11:40:48.796091Z",
     "iopub.status.busy": "2022-06-24T11:40:48.795729Z",
     "iopub.status.idle": "2022-06-24T11:40:48.812823Z",
     "shell.execute_reply": "2022-06-24T11:40:48.811110Z"
    },
    "papermill": {
     "duration": 0.025742,
     "end_time": "2022-06-24T11:40:48.814980",
     "exception": false,
     "start_time": "2022-06-24T11:40:48.789238",
     "status": "completed"
    },
    "tags": []
   },
   "outputs": [
    {
     "data": {
      "text/html": [
       "<div>\n",
       "<style scoped>\n",
       "    .dataframe tbody tr th:only-of-type {\n",
       "        vertical-align: middle;\n",
       "    }\n",
       "\n",
       "    .dataframe tbody tr th {\n",
       "        vertical-align: top;\n",
       "    }\n",
       "\n",
       "    .dataframe thead th {\n",
       "        text-align: right;\n",
       "    }\n",
       "</style>\n",
       "<table border=\"1\" class=\"dataframe\">\n",
       "  <thead>\n",
       "    <tr style=\"text-align: right;\">\n",
       "      <th></th>\n",
       "      <th>Series_reference</th>\n",
       "      <th>Date</th>\n",
       "      <th>Price</th>\n",
       "      <th>STATUS</th>\n",
       "      <th>UNITS</th>\n",
       "      <th>Subject</th>\n",
       "      <th>Group</th>\n",
       "      <th>food_item</th>\n",
       "    </tr>\n",
       "  </thead>\n",
       "  <tbody>\n",
       "    <tr>\n",
       "      <th>0</th>\n",
       "      <td>CPIM.SE901</td>\n",
       "      <td>1960-01-01</td>\n",
       "      <td>45.923461</td>\n",
       "      <td>FINAL</td>\n",
       "      <td>Index</td>\n",
       "      <td>Consumers Price Index - CPI</td>\n",
       "      <td>Food Price Index for New Zealand</td>\n",
       "      <td>Food</td>\n",
       "    </tr>\n",
       "    <tr>\n",
       "      <th>1</th>\n",
       "      <td>CPIM.SE901</td>\n",
       "      <td>1960-02-01</td>\n",
       "      <td>45.498637</td>\n",
       "      <td>FINAL</td>\n",
       "      <td>Index</td>\n",
       "      <td>Consumers Price Index - CPI</td>\n",
       "      <td>Food Price Index for New Zealand</td>\n",
       "      <td>Food</td>\n",
       "    </tr>\n",
       "    <tr>\n",
       "      <th>2</th>\n",
       "      <td>CPIM.SE901</td>\n",
       "      <td>1960-03-01</td>\n",
       "      <td>45.116296</td>\n",
       "      <td>FINAL</td>\n",
       "      <td>Index</td>\n",
       "      <td>Consumers Price Index - CPI</td>\n",
       "      <td>Food Price Index for New Zealand</td>\n",
       "      <td>Food</td>\n",
       "    </tr>\n",
       "    <tr>\n",
       "      <th>3</th>\n",
       "      <td>CPIM.SE901</td>\n",
       "      <td>1960-04-01</td>\n",
       "      <td>45.158779</td>\n",
       "      <td>FINAL</td>\n",
       "      <td>Index</td>\n",
       "      <td>Consumers Price Index - CPI</td>\n",
       "      <td>Food Price Index for New Zealand</td>\n",
       "      <td>Food</td>\n",
       "    </tr>\n",
       "    <tr>\n",
       "      <th>4</th>\n",
       "      <td>CPIM.SE901</td>\n",
       "      <td>1960-05-01</td>\n",
       "      <td>45.286226</td>\n",
       "      <td>FINAL</td>\n",
       "      <td>Index</td>\n",
       "      <td>Consumers Price Index - CPI</td>\n",
       "      <td>Food Price Index for New Zealand</td>\n",
       "      <td>Food</td>\n",
       "    </tr>\n",
       "  </tbody>\n",
       "</table>\n",
       "</div>"
      ],
      "text/plain": [
       "  Series_reference       Date      Price STATUS  UNITS  \\\n",
       "0       CPIM.SE901 1960-01-01  45.923461  FINAL  Index   \n",
       "1       CPIM.SE901 1960-02-01  45.498637  FINAL  Index   \n",
       "2       CPIM.SE901 1960-03-01  45.116296  FINAL  Index   \n",
       "3       CPIM.SE901 1960-04-01  45.158779  FINAL  Index   \n",
       "4       CPIM.SE901 1960-05-01  45.286226  FINAL  Index   \n",
       "\n",
       "                       Subject                             Group food_item  \n",
       "0  Consumers Price Index - CPI  Food Price Index for New Zealand      Food  \n",
       "1  Consumers Price Index - CPI  Food Price Index for New Zealand      Food  \n",
       "2  Consumers Price Index - CPI  Food Price Index for New Zealand      Food  \n",
       "3  Consumers Price Index - CPI  Food Price Index for New Zealand      Food  \n",
       "4  Consumers Price Index - CPI  Food Price Index for New Zealand      Food  "
      ]
     },
     "execution_count": 6,
     "metadata": {},
     "output_type": "execute_result"
    }
   ],
   "source": [
    "df.rename(columns={'Period': 'Date', 'Data_value': 'Price', 'Series_title_1': 'food_item'}, inplace=True) # updated column names for better clarity\n",
    "df.head()"
   ]
  },
  {
   "cell_type": "code",
   "execution_count": 7,
   "id": "f93ae9ca",
   "metadata": {
    "execution": {
     "iopub.execute_input": "2022-06-24T11:40:48.828350Z",
     "iopub.status.busy": "2022-06-24T11:40:48.827909Z",
     "iopub.status.idle": "2022-06-24T11:40:48.846499Z",
     "shell.execute_reply": "2022-06-24T11:40:48.845500Z"
    },
    "papermill": {
     "duration": 0.027439,
     "end_time": "2022-06-24T11:40:48.848467",
     "exception": false,
     "start_time": "2022-06-24T11:40:48.821028",
     "status": "completed"
    },
    "tags": []
   },
   "outputs": [
    {
     "data": {
      "text/html": [
       "<div>\n",
       "<style scoped>\n",
       "    .dataframe tbody tr th:only-of-type {\n",
       "        vertical-align: middle;\n",
       "    }\n",
       "\n",
       "    .dataframe tbody tr th {\n",
       "        vertical-align: top;\n",
       "    }\n",
       "\n",
       "    .dataframe thead th {\n",
       "        text-align: right;\n",
       "    }\n",
       "</style>\n",
       "<table border=\"1\" class=\"dataframe\">\n",
       "  <thead>\n",
       "    <tr style=\"text-align: right;\">\n",
       "      <th></th>\n",
       "      <th>Series_reference</th>\n",
       "      <th>Date</th>\n",
       "      <th>Price</th>\n",
       "      <th>STATUS</th>\n",
       "      <th>UNITS</th>\n",
       "      <th>Subject</th>\n",
       "      <th>Group</th>\n",
       "      <th>food_item</th>\n",
       "      <th>PercentChange</th>\n",
       "    </tr>\n",
       "  </thead>\n",
       "  <tbody>\n",
       "    <tr>\n",
       "      <th>0</th>\n",
       "      <td>CPIM.SE901</td>\n",
       "      <td>1960-01-01</td>\n",
       "      <td>45.923461</td>\n",
       "      <td>FINAL</td>\n",
       "      <td>Index</td>\n",
       "      <td>Consumers Price Index - CPI</td>\n",
       "      <td>Food Price Index for New Zealand</td>\n",
       "      <td>Food</td>\n",
       "      <td>NaN</td>\n",
       "    </tr>\n",
       "    <tr>\n",
       "      <th>1</th>\n",
       "      <td>CPIM.SE901</td>\n",
       "      <td>1960-02-01</td>\n",
       "      <td>45.498637</td>\n",
       "      <td>FINAL</td>\n",
       "      <td>Index</td>\n",
       "      <td>Consumers Price Index - CPI</td>\n",
       "      <td>Food Price Index for New Zealand</td>\n",
       "      <td>Food</td>\n",
       "      <td>-0.01</td>\n",
       "    </tr>\n",
       "    <tr>\n",
       "      <th>2</th>\n",
       "      <td>CPIM.SE901</td>\n",
       "      <td>1960-03-01</td>\n",
       "      <td>45.116296</td>\n",
       "      <td>FINAL</td>\n",
       "      <td>Index</td>\n",
       "      <td>Consumers Price Index - CPI</td>\n",
       "      <td>Food Price Index for New Zealand</td>\n",
       "      <td>Food</td>\n",
       "      <td>-0.01</td>\n",
       "    </tr>\n",
       "    <tr>\n",
       "      <th>3</th>\n",
       "      <td>CPIM.SE901</td>\n",
       "      <td>1960-04-01</td>\n",
       "      <td>45.158779</td>\n",
       "      <td>FINAL</td>\n",
       "      <td>Index</td>\n",
       "      <td>Consumers Price Index - CPI</td>\n",
       "      <td>Food Price Index for New Zealand</td>\n",
       "      <td>Food</td>\n",
       "      <td>0.00</td>\n",
       "    </tr>\n",
       "    <tr>\n",
       "      <th>4</th>\n",
       "      <td>CPIM.SE901</td>\n",
       "      <td>1960-05-01</td>\n",
       "      <td>45.286226</td>\n",
       "      <td>FINAL</td>\n",
       "      <td>Index</td>\n",
       "      <td>Consumers Price Index - CPI</td>\n",
       "      <td>Food Price Index for New Zealand</td>\n",
       "      <td>Food</td>\n",
       "      <td>0.00</td>\n",
       "    </tr>\n",
       "  </tbody>\n",
       "</table>\n",
       "</div>"
      ],
      "text/plain": [
       "  Series_reference       Date      Price STATUS  UNITS  \\\n",
       "0       CPIM.SE901 1960-01-01  45.923461  FINAL  Index   \n",
       "1       CPIM.SE901 1960-02-01  45.498637  FINAL  Index   \n",
       "2       CPIM.SE901 1960-03-01  45.116296  FINAL  Index   \n",
       "3       CPIM.SE901 1960-04-01  45.158779  FINAL  Index   \n",
       "4       CPIM.SE901 1960-05-01  45.286226  FINAL  Index   \n",
       "\n",
       "                       Subject                             Group food_item  \\\n",
       "0  Consumers Price Index - CPI  Food Price Index for New Zealand      Food   \n",
       "1  Consumers Price Index - CPI  Food Price Index for New Zealand      Food   \n",
       "2  Consumers Price Index - CPI  Food Price Index for New Zealand      Food   \n",
       "3  Consumers Price Index - CPI  Food Price Index for New Zealand      Food   \n",
       "4  Consumers Price Index - CPI  Food Price Index for New Zealand      Food   \n",
       "\n",
       "   PercentChange  \n",
       "0            NaN  \n",
       "1          -0.01  \n",
       "2          -0.01  \n",
       "3           0.00  \n",
       "4           0.00  "
      ]
     },
     "execution_count": 7,
     "metadata": {},
     "output_type": "execute_result"
    }
   ],
   "source": [
    "df['PercentChange'] = round(df['Price'].pct_change(),2) # Adding new column Percent Change for monthly change in price\n",
    "df.head()"
   ]
  },
  {
   "cell_type": "code",
   "execution_count": 8,
   "id": "36383b43",
   "metadata": {
    "execution": {
     "iopub.execute_input": "2022-06-24T11:40:48.862198Z",
     "iopub.status.busy": "2022-06-24T11:40:48.861375Z",
     "iopub.status.idle": "2022-06-24T11:40:48.878152Z",
     "shell.execute_reply": "2022-06-24T11:40:48.877336Z"
    },
    "papermill": {
     "duration": 0.025334,
     "end_time": "2022-06-24T11:40:48.879788",
     "exception": false,
     "start_time": "2022-06-24T11:40:48.854454",
     "status": "completed"
    },
    "tags": []
   },
   "outputs": [
    {
     "data": {
      "text/html": [
       "<div>\n",
       "<style scoped>\n",
       "    .dataframe tbody tr th:only-of-type {\n",
       "        vertical-align: middle;\n",
       "    }\n",
       "\n",
       "    .dataframe tbody tr th {\n",
       "        vertical-align: top;\n",
       "    }\n",
       "\n",
       "    .dataframe thead th {\n",
       "        text-align: right;\n",
       "    }\n",
       "</style>\n",
       "<table border=\"1\" class=\"dataframe\">\n",
       "  <thead>\n",
       "    <tr style=\"text-align: right;\">\n",
       "      <th></th>\n",
       "      <th>Series_reference</th>\n",
       "      <th>Price</th>\n",
       "      <th>STATUS</th>\n",
       "      <th>UNITS</th>\n",
       "      <th>Subject</th>\n",
       "      <th>Group</th>\n",
       "      <th>food_item</th>\n",
       "      <th>PercentChange</th>\n",
       "    </tr>\n",
       "    <tr>\n",
       "      <th>Date</th>\n",
       "      <th></th>\n",
       "      <th></th>\n",
       "      <th></th>\n",
       "      <th></th>\n",
       "      <th></th>\n",
       "      <th></th>\n",
       "      <th></th>\n",
       "      <th></th>\n",
       "    </tr>\n",
       "  </thead>\n",
       "  <tbody>\n",
       "    <tr>\n",
       "      <th>1960-01-01</th>\n",
       "      <td>CPIM.SE901</td>\n",
       "      <td>45.923461</td>\n",
       "      <td>FINAL</td>\n",
       "      <td>Index</td>\n",
       "      <td>Consumers Price Index - CPI</td>\n",
       "      <td>Food Price Index for New Zealand</td>\n",
       "      <td>Food</td>\n",
       "      <td>NaN</td>\n",
       "    </tr>\n",
       "    <tr>\n",
       "      <th>1960-02-01</th>\n",
       "      <td>CPIM.SE901</td>\n",
       "      <td>45.498637</td>\n",
       "      <td>FINAL</td>\n",
       "      <td>Index</td>\n",
       "      <td>Consumers Price Index - CPI</td>\n",
       "      <td>Food Price Index for New Zealand</td>\n",
       "      <td>Food</td>\n",
       "      <td>-0.01</td>\n",
       "    </tr>\n",
       "    <tr>\n",
       "      <th>1960-03-01</th>\n",
       "      <td>CPIM.SE901</td>\n",
       "      <td>45.116296</td>\n",
       "      <td>FINAL</td>\n",
       "      <td>Index</td>\n",
       "      <td>Consumers Price Index - CPI</td>\n",
       "      <td>Food Price Index for New Zealand</td>\n",
       "      <td>Food</td>\n",
       "      <td>-0.01</td>\n",
       "    </tr>\n",
       "    <tr>\n",
       "      <th>1960-04-01</th>\n",
       "      <td>CPIM.SE901</td>\n",
       "      <td>45.158779</td>\n",
       "      <td>FINAL</td>\n",
       "      <td>Index</td>\n",
       "      <td>Consumers Price Index - CPI</td>\n",
       "      <td>Food Price Index for New Zealand</td>\n",
       "      <td>Food</td>\n",
       "      <td>0.00</td>\n",
       "    </tr>\n",
       "    <tr>\n",
       "      <th>1960-05-01</th>\n",
       "      <td>CPIM.SE901</td>\n",
       "      <td>45.286226</td>\n",
       "      <td>FINAL</td>\n",
       "      <td>Index</td>\n",
       "      <td>Consumers Price Index - CPI</td>\n",
       "      <td>Food Price Index for New Zealand</td>\n",
       "      <td>Food</td>\n",
       "      <td>0.00</td>\n",
       "    </tr>\n",
       "    <tr>\n",
       "      <th>...</th>\n",
       "      <td>...</td>\n",
       "      <td>...</td>\n",
       "      <td>...</td>\n",
       "      <td>...</td>\n",
       "      <td>...</td>\n",
       "      <td>...</td>\n",
       "      <td>...</td>\n",
       "      <td>...</td>\n",
       "    </tr>\n",
       "    <tr>\n",
       "      <th>2022-01-01</th>\n",
       "      <td>CPIM.SE901502</td>\n",
       "      <td>1186.000000</td>\n",
       "      <td>FINAL</td>\n",
       "      <td>Index</td>\n",
       "      <td>Consumers Price Index - CPI</td>\n",
       "      <td>Food Price Index Level 3 Classes for New Zealand</td>\n",
       "      <td>Ready-to-eat food</td>\n",
       "      <td>0.00</td>\n",
       "    </tr>\n",
       "    <tr>\n",
       "      <th>2022-02-01</th>\n",
       "      <td>CPIM.SE901502</td>\n",
       "      <td>1193.000000</td>\n",
       "      <td>FINAL</td>\n",
       "      <td>Index</td>\n",
       "      <td>Consumers Price Index - CPI</td>\n",
       "      <td>Food Price Index Level 3 Classes for New Zealand</td>\n",
       "      <td>Ready-to-eat food</td>\n",
       "      <td>0.01</td>\n",
       "    </tr>\n",
       "    <tr>\n",
       "      <th>2022-03-01</th>\n",
       "      <td>CPIM.SE901502</td>\n",
       "      <td>1198.000000</td>\n",
       "      <td>FINAL</td>\n",
       "      <td>Index</td>\n",
       "      <td>Consumers Price Index - CPI</td>\n",
       "      <td>Food Price Index Level 3 Classes for New Zealand</td>\n",
       "      <td>Ready-to-eat food</td>\n",
       "      <td>0.00</td>\n",
       "    </tr>\n",
       "    <tr>\n",
       "      <th>2022-04-01</th>\n",
       "      <td>CPIM.SE901502</td>\n",
       "      <td>1216.000000</td>\n",
       "      <td>FINAL</td>\n",
       "      <td>Index</td>\n",
       "      <td>Consumers Price Index - CPI</td>\n",
       "      <td>Food Price Index Level 3 Classes for New Zealand</td>\n",
       "      <td>Ready-to-eat food</td>\n",
       "      <td>0.02</td>\n",
       "    </tr>\n",
       "    <tr>\n",
       "      <th>2022-05-01</th>\n",
       "      <td>CPIM.SE901502</td>\n",
       "      <td>1229.000000</td>\n",
       "      <td>FINAL</td>\n",
       "      <td>Index</td>\n",
       "      <td>Consumers Price Index - CPI</td>\n",
       "      <td>Food Price Index Level 3 Classes for New Zealand</td>\n",
       "      <td>Ready-to-eat food</td>\n",
       "      <td>0.01</td>\n",
       "    </tr>\n",
       "  </tbody>\n",
       "</table>\n",
       "<p>12276 rows × 8 columns</p>\n",
       "</div>"
      ],
      "text/plain": [
       "           Series_reference        Price STATUS  UNITS  \\\n",
       "Date                                                     \n",
       "1960-01-01       CPIM.SE901    45.923461  FINAL  Index   \n",
       "1960-02-01       CPIM.SE901    45.498637  FINAL  Index   \n",
       "1960-03-01       CPIM.SE901    45.116296  FINAL  Index   \n",
       "1960-04-01       CPIM.SE901    45.158779  FINAL  Index   \n",
       "1960-05-01       CPIM.SE901    45.286226  FINAL  Index   \n",
       "...                     ...          ...    ...    ...   \n",
       "2022-01-01    CPIM.SE901502  1186.000000  FINAL  Index   \n",
       "2022-02-01    CPIM.SE901502  1193.000000  FINAL  Index   \n",
       "2022-03-01    CPIM.SE901502  1198.000000  FINAL  Index   \n",
       "2022-04-01    CPIM.SE901502  1216.000000  FINAL  Index   \n",
       "2022-05-01    CPIM.SE901502  1229.000000  FINAL  Index   \n",
       "\n",
       "                                Subject  \\\n",
       "Date                                      \n",
       "1960-01-01  Consumers Price Index - CPI   \n",
       "1960-02-01  Consumers Price Index - CPI   \n",
       "1960-03-01  Consumers Price Index - CPI   \n",
       "1960-04-01  Consumers Price Index - CPI   \n",
       "1960-05-01  Consumers Price Index - CPI   \n",
       "...                                 ...   \n",
       "2022-01-01  Consumers Price Index - CPI   \n",
       "2022-02-01  Consumers Price Index - CPI   \n",
       "2022-03-01  Consumers Price Index - CPI   \n",
       "2022-04-01  Consumers Price Index - CPI   \n",
       "2022-05-01  Consumers Price Index - CPI   \n",
       "\n",
       "                                                       Group  \\\n",
       "Date                                                           \n",
       "1960-01-01                  Food Price Index for New Zealand   \n",
       "1960-02-01                  Food Price Index for New Zealand   \n",
       "1960-03-01                  Food Price Index for New Zealand   \n",
       "1960-04-01                  Food Price Index for New Zealand   \n",
       "1960-05-01                  Food Price Index for New Zealand   \n",
       "...                                                      ...   \n",
       "2022-01-01  Food Price Index Level 3 Classes for New Zealand   \n",
       "2022-02-01  Food Price Index Level 3 Classes for New Zealand   \n",
       "2022-03-01  Food Price Index Level 3 Classes for New Zealand   \n",
       "2022-04-01  Food Price Index Level 3 Classes for New Zealand   \n",
       "2022-05-01  Food Price Index Level 3 Classes for New Zealand   \n",
       "\n",
       "                    food_item  PercentChange  \n",
       "Date                                          \n",
       "1960-01-01               Food            NaN  \n",
       "1960-02-01               Food          -0.01  \n",
       "1960-03-01               Food          -0.01  \n",
       "1960-04-01               Food           0.00  \n",
       "1960-05-01               Food           0.00  \n",
       "...                       ...            ...  \n",
       "2022-01-01  Ready-to-eat food           0.00  \n",
       "2022-02-01  Ready-to-eat food           0.01  \n",
       "2022-03-01  Ready-to-eat food           0.00  \n",
       "2022-04-01  Ready-to-eat food           0.02  \n",
       "2022-05-01  Ready-to-eat food           0.01  \n",
       "\n",
       "[12276 rows x 8 columns]"
      ]
     },
     "execution_count": 8,
     "metadata": {},
     "output_type": "execute_result"
    }
   ],
   "source": [
    "df.set_index('Date')"
   ]
  },
  {
   "cell_type": "code",
   "execution_count": 9,
   "id": "f93deb93",
   "metadata": {
    "execution": {
     "iopub.execute_input": "2022-06-24T11:40:48.894126Z",
     "iopub.status.busy": "2022-06-24T11:40:48.892949Z",
     "iopub.status.idle": "2022-06-24T11:40:48.900545Z",
     "shell.execute_reply": "2022-06-24T11:40:48.899796Z"
    },
    "papermill": {
     "duration": 0.016106,
     "end_time": "2022-06-24T11:40:48.902100",
     "exception": false,
     "start_time": "2022-06-24T11:40:48.885994",
     "status": "completed"
    },
    "tags": []
   },
   "outputs": [
    {
     "data": {
      "text/plain": [
       "Food                                                  749\n",
       "Meat, poultry and fish                                677\n",
       "Poultry (fresh, chilled or frozen)                    521\n",
       "Fish and other seafood                                521\n",
       "Restaurant meals                                      521\n",
       "Beef and veal (fresh, chilled or frozen)              401\n",
       "Pork (fresh, chilled or frozen)                       401\n",
       "Mutton, lamb and hogget (fresh, chilled or frozen)    401\n",
       "Preserved, prepared and processed meat                401\n",
       "Eggs                                                  401\n",
       "Name: food_item, dtype: int64"
      ]
     },
     "execution_count": 9,
     "metadata": {},
     "output_type": "execute_result"
    }
   ],
   "source": [
    "# Top_10 food categories\n",
    "\n",
    "by_food_category = df.food_item.value_counts()\n",
    "top_10_food_items = by_food_category[:10]\n",
    "top_10_food_items"
   ]
  },
  {
   "cell_type": "code",
   "execution_count": 10,
   "id": "1d031495",
   "metadata": {
    "execution": {
     "iopub.execute_input": "2022-06-24T11:40:48.916823Z",
     "iopub.status.busy": "2022-06-24T11:40:48.916302Z",
     "iopub.status.idle": "2022-06-24T11:40:49.133006Z",
     "shell.execute_reply": "2022-06-24T11:40:49.131969Z"
    },
    "papermill": {
     "duration": 0.226339,
     "end_time": "2022-06-24T11:40:49.134988",
     "exception": false,
     "start_time": "2022-06-24T11:40:48.908649",
     "status": "completed"
    },
    "tags": []
   },
   "outputs": [
    {
     "data": {
      "image/png": "[encoded data removed]",
      "text/plain": [
       "<Figure size 432x288 with 1 Axes>"
      ]
     },
     "metadata": {
      "needs_background": "light"
     },
     "output_type": "display_data"
    }
   ],
   "source": [
    "#.plot() in pandas\n",
    "\n",
    "top_10_food_items.plot(kind='barh');"
   ]
  },
  {
   "cell_type": "code",
   "execution_count": 11,
   "id": "8116440e",
   "metadata": {
    "execution": {
     "iopub.execute_input": "2022-06-24T11:40:49.150135Z",
     "iopub.status.busy": "2022-06-24T11:40:49.149752Z",
     "iopub.status.idle": "2022-06-24T11:40:49.343081Z",
     "shell.execute_reply": "2022-06-24T11:40:49.341227Z"
    },
    "papermill": {
     "duration": 0.203226,
     "end_time": "2022-06-24T11:40:49.345040",
     "exception": false,
     "start_time": "2022-06-24T11:40:49.141814",
     "status": "completed"
    },
    "tags": []
   },
   "outputs": [
    {
     "name": "stderr",
     "output_type": "stream",
     "text": [
      "/opt/conda/lib/python3.7/site-packages/seaborn/_decorators.py:43: FutureWarning: Pass the following variables as keyword args: x, y. From version 0.12, the only valid positional argument will be `data`, and passing other arguments without an explicit keyword will result in an error or misinterpretation.\n",
      "  FutureWarning\n"
     ]
    },
    {
     "data": {
      "image/png": "[encoded data removed]",
      "text/plain": [
       "<Figure size 432x288 with 1 Axes>"
      ]
     },
     "metadata": {
      "needs_background": "light"
     },
     "output_type": "display_data"
    }
   ],
   "source": [
    "sns.barplot(top_10_food_items, top_10_food_items.index);"
   ]
  },
  {
   "cell_type": "code",
   "execution_count": 12,
   "id": "4f3d99cc",
   "metadata": {
    "execution": {
     "iopub.execute_input": "2022-06-24T11:40:49.360761Z",
     "iopub.status.busy": "2022-06-24T11:40:49.360366Z",
     "iopub.status.idle": "2022-06-24T11:40:49.534103Z",
     "shell.execute_reply": "2022-06-24T11:40:49.533107Z"
    },
    "papermill": {
     "duration": 0.183939,
     "end_time": "2022-06-24T11:40:49.536133",
     "exception": false,
     "start_time": "2022-06-24T11:40:49.352194",
     "status": "completed"
    },
    "tags": []
   },
   "outputs": [
    {
     "data": {
      "image/png": "[encoded data removed]",
      "text/plain": [
       "<Figure size 432x288 with 1 Axes>"
      ]
     },
     "metadata": {
      "needs_background": "light"
     },
     "output_type": "display_data"
    }
   ],
   "source": [
    "top_10_food_items_r = top_10_food_items.sort_values(ascending=True)\n",
    "top_10_food_items_r.plot(kind='barh');"
   ]
  },
  {
   "cell_type": "code",
   "execution_count": 13,
   "id": "4a9b947b",
   "metadata": {
    "execution": {
     "iopub.execute_input": "2022-06-24T11:40:49.553357Z",
     "iopub.status.busy": "2022-06-24T11:40:49.552998Z",
     "iopub.status.idle": "2022-06-24T11:40:49.575655Z",
     "shell.execute_reply": "2022-06-24T11:40:49.574577Z"
    },
    "papermill": {
     "duration": 0.034019,
     "end_time": "2022-06-24T11:40:49.577600",
     "exception": false,
     "start_time": "2022-06-24T11:40:49.543581",
     "status": "completed"
    },
    "tags": []
   },
   "outputs": [
    {
     "data": {
      "text/html": [
       "<div>\n",
       "<style scoped>\n",
       "    .dataframe tbody tr th:only-of-type {\n",
       "        vertical-align: middle;\n",
       "    }\n",
       "\n",
       "    .dataframe tbody tr th {\n",
       "        vertical-align: top;\n",
       "    }\n",
       "\n",
       "    .dataframe thead th {\n",
       "        text-align: right;\n",
       "    }\n",
       "</style>\n",
       "<table border=\"1\" class=\"dataframe\">\n",
       "  <thead>\n",
       "    <tr style=\"text-align: right;\">\n",
       "      <th></th>\n",
       "      <th>Series_reference</th>\n",
       "      <th>Date</th>\n",
       "      <th>Price</th>\n",
       "      <th>STATUS</th>\n",
       "      <th>UNITS</th>\n",
       "      <th>Subject</th>\n",
       "      <th>Group</th>\n",
       "      <th>food_item</th>\n",
       "      <th>PercentChange</th>\n",
       "    </tr>\n",
       "  </thead>\n",
       "  <tbody>\n",
       "    <tr>\n",
       "      <th>869</th>\n",
       "      <td>CPIM.SE9011</td>\n",
       "      <td>2009-06-01</td>\n",
       "      <td>840.301576</td>\n",
       "      <td>FINAL</td>\n",
       "      <td>Index</td>\n",
       "      <td>Consumers Price Index - CPI</td>\n",
       "      <td>Food Price Index Level 2 Subgroups for New Zea...</td>\n",
       "      <td>Fruit and vegetables</td>\n",
       "      <td>0.15</td>\n",
       "    </tr>\n",
       "    <tr>\n",
       "      <th>917</th>\n",
       "      <td>CPIM.SE9011</td>\n",
       "      <td>2013-06-01</td>\n",
       "      <td>901.987663</td>\n",
       "      <td>FINAL</td>\n",
       "      <td>Index</td>\n",
       "      <td>Consumers Price Index - CPI</td>\n",
       "      <td>Food Price Index Level 2 Subgroups for New Zea...</td>\n",
       "      <td>Fruit and vegetables</td>\n",
       "      <td>0.13</td>\n",
       "    </tr>\n",
       "    <tr>\n",
       "      <th>756</th>\n",
       "      <td>CPIM.SE9011</td>\n",
       "      <td>2000-01-01</td>\n",
       "      <td>585.332420</td>\n",
       "      <td>FINAL</td>\n",
       "      <td>Index</td>\n",
       "      <td>Consumers Price Index - CPI</td>\n",
       "      <td>Food Price Index Level 2 Subgroups for New Zea...</td>\n",
       "      <td>Fruit and vegetables</td>\n",
       "      <td>0.13</td>\n",
       "    </tr>\n",
       "    <tr>\n",
       "      <th>893</th>\n",
       "      <td>CPIM.SE9011</td>\n",
       "      <td>2011-06-01</td>\n",
       "      <td>882.796436</td>\n",
       "      <td>FINAL</td>\n",
       "      <td>Index</td>\n",
       "      <td>Consumers Price Index - CPI</td>\n",
       "      <td>Food Price Index Level 2 Subgroups for New Zea...</td>\n",
       "      <td>Fruit and vegetables</td>\n",
       "      <td>0.12</td>\n",
       "    </tr>\n",
       "    <tr>\n",
       "      <th>1020</th>\n",
       "      <td>CPIM.SE9011</td>\n",
       "      <td>2022-01-01</td>\n",
       "      <td>1079.000000</td>\n",
       "      <td>FINAL</td>\n",
       "      <td>Index</td>\n",
       "      <td>Consumers Price Index - CPI</td>\n",
       "      <td>Food Price Index Level 2 Subgroups for New Zea...</td>\n",
       "      <td>Fruit and vegetables</td>\n",
       "      <td>0.10</td>\n",
       "    </tr>\n",
       "  </tbody>\n",
       "</table>\n",
       "</div>"
      ],
      "text/plain": [
       "     Series_reference       Date        Price STATUS  UNITS  \\\n",
       "869       CPIM.SE9011 2009-06-01   840.301576  FINAL  Index   \n",
       "917       CPIM.SE9011 2013-06-01   901.987663  FINAL  Index   \n",
       "756       CPIM.SE9011 2000-01-01   585.332420  FINAL  Index   \n",
       "893       CPIM.SE9011 2011-06-01   882.796436  FINAL  Index   \n",
       "1020      CPIM.SE9011 2022-01-01  1079.000000  FINAL  Index   \n",
       "\n",
       "                          Subject  \\\n",
       "869   Consumers Price Index - CPI   \n",
       "917   Consumers Price Index - CPI   \n",
       "756   Consumers Price Index - CPI   \n",
       "893   Consumers Price Index - CPI   \n",
       "1020  Consumers Price Index - CPI   \n",
       "\n",
       "                                                  Group             food_item  \\\n",
       "869   Food Price Index Level 2 Subgroups for New Zea...  Fruit and vegetables   \n",
       "917   Food Price Index Level 2 Subgroups for New Zea...  Fruit and vegetables   \n",
       "756   Food Price Index Level 2 Subgroups for New Zea...  Fruit and vegetables   \n",
       "893   Food Price Index Level 2 Subgroups for New Zea...  Fruit and vegetables   \n",
       "1020  Food Price Index Level 2 Subgroups for New Zea...  Fruit and vegetables   \n",
       "\n",
       "      PercentChange  \n",
       "869            0.15  \n",
       "917            0.13  \n",
       "756            0.13  \n",
       "893            0.12  \n",
       "1020           0.10  "
      ]
     },
     "execution_count": 13,
     "metadata": {},
     "output_type": "execute_result"
    }
   ],
   "source": [
    "FruitVegetables = df.loc[df.food_item == 'Fruit and vegetables'].sort_values('PercentChange', ascending = False)\n",
    "FruitVegetables.head()"
   ]
  },
  {
   "cell_type": "code",
   "execution_count": 14,
   "id": "55213ed1",
   "metadata": {
    "execution": {
     "iopub.execute_input": "2022-06-24T11:40:49.594549Z",
     "iopub.status.busy": "2022-06-24T11:40:49.594133Z",
     "iopub.status.idle": "2022-06-24T11:40:49.632010Z",
     "shell.execute_reply": "2022-06-24T11:40:49.631291Z"
    },
    "papermill": {
     "duration": 0.048346,
     "end_time": "2022-06-24T11:40:49.633728",
     "exception": false,
     "start_time": "2022-06-24T11:40:49.585382",
     "status": "completed"
    },
    "tags": []
   },
   "outputs": [
    {
     "data": {
      "text/html": [
       "<div>\n",
       "<style scoped>\n",
       "    .dataframe tbody tr th:only-of-type {\n",
       "        vertical-align: middle;\n",
       "    }\n",
       "\n",
       "    .dataframe tbody tr th {\n",
       "        vertical-align: top;\n",
       "    }\n",
       "\n",
       "    .dataframe thead th {\n",
       "        text-align: right;\n",
       "    }\n",
       "</style>\n",
       "<table border=\"1\" class=\"dataframe\">\n",
       "  <thead>\n",
       "    <tr style=\"text-align: right;\">\n",
       "      <th></th>\n",
       "      <th>Series_reference</th>\n",
       "      <th>Date</th>\n",
       "      <th>Price</th>\n",
       "      <th>STATUS</th>\n",
       "      <th>UNITS</th>\n",
       "      <th>Subject</th>\n",
       "      <th>Group</th>\n",
       "      <th>food_item</th>\n",
       "      <th>PercentChange</th>\n",
       "      <th>monthyear</th>\n",
       "    </tr>\n",
       "  </thead>\n",
       "  <tbody>\n",
       "    <tr>\n",
       "      <th>0</th>\n",
       "      <td>CPIM.SE901</td>\n",
       "      <td>1960-01-01</td>\n",
       "      <td>45.923461</td>\n",
       "      <td>FINAL</td>\n",
       "      <td>Index</td>\n",
       "      <td>Consumers Price Index - CPI</td>\n",
       "      <td>Food Price Index for New Zealand</td>\n",
       "      <td>Food</td>\n",
       "      <td>NaN</td>\n",
       "      <td>1960-01</td>\n",
       "    </tr>\n",
       "    <tr>\n",
       "      <th>1</th>\n",
       "      <td>CPIM.SE901</td>\n",
       "      <td>1960-02-01</td>\n",
       "      <td>45.498637</td>\n",
       "      <td>FINAL</td>\n",
       "      <td>Index</td>\n",
       "      <td>Consumers Price Index - CPI</td>\n",
       "      <td>Food Price Index for New Zealand</td>\n",
       "      <td>Food</td>\n",
       "      <td>-0.01</td>\n",
       "      <td>1960-02</td>\n",
       "    </tr>\n",
       "    <tr>\n",
       "      <th>2</th>\n",
       "      <td>CPIM.SE901</td>\n",
       "      <td>1960-03-01</td>\n",
       "      <td>45.116296</td>\n",
       "      <td>FINAL</td>\n",
       "      <td>Index</td>\n",
       "      <td>Consumers Price Index - CPI</td>\n",
       "      <td>Food Price Index for New Zealand</td>\n",
       "      <td>Food</td>\n",
       "      <td>-0.01</td>\n",
       "      <td>1960-03</td>\n",
       "    </tr>\n",
       "    <tr>\n",
       "      <th>3</th>\n",
       "      <td>CPIM.SE901</td>\n",
       "      <td>1960-04-01</td>\n",
       "      <td>45.158779</td>\n",
       "      <td>FINAL</td>\n",
       "      <td>Index</td>\n",
       "      <td>Consumers Price Index - CPI</td>\n",
       "      <td>Food Price Index for New Zealand</td>\n",
       "      <td>Food</td>\n",
       "      <td>0.00</td>\n",
       "      <td>1960-04</td>\n",
       "    </tr>\n",
       "    <tr>\n",
       "      <th>4</th>\n",
       "      <td>CPIM.SE901</td>\n",
       "      <td>1960-05-01</td>\n",
       "      <td>45.286226</td>\n",
       "      <td>FINAL</td>\n",
       "      <td>Index</td>\n",
       "      <td>Consumers Price Index - CPI</td>\n",
       "      <td>Food Price Index for New Zealand</td>\n",
       "      <td>Food</td>\n",
       "      <td>0.00</td>\n",
       "      <td>1960-05</td>\n",
       "    </tr>\n",
       "  </tbody>\n",
       "</table>\n",
       "</div>"
      ],
      "text/plain": [
       "  Series_reference       Date      Price STATUS  UNITS  \\\n",
       "0       CPIM.SE901 1960-01-01  45.923461  FINAL  Index   \n",
       "1       CPIM.SE901 1960-02-01  45.498637  FINAL  Index   \n",
       "2       CPIM.SE901 1960-03-01  45.116296  FINAL  Index   \n",
       "3       CPIM.SE901 1960-04-01  45.158779  FINAL  Index   \n",
       "4       CPIM.SE901 1960-05-01  45.286226  FINAL  Index   \n",
       "\n",
       "                       Subject                             Group food_item  \\\n",
       "0  Consumers Price Index - CPI  Food Price Index for New Zealand      Food   \n",
       "1  Consumers Price Index - CPI  Food Price Index for New Zealand      Food   \n",
       "2  Consumers Price Index - CPI  Food Price Index for New Zealand      Food   \n",
       "3  Consumers Price Index - CPI  Food Price Index for New Zealand      Food   \n",
       "4  Consumers Price Index - CPI  Food Price Index for New Zealand      Food   \n",
       "\n",
       "   PercentChange monthyear  \n",
       "0            NaN   1960-01  \n",
       "1          -0.01   1960-02  \n",
       "2          -0.01   1960-03  \n",
       "3           0.00   1960-04  \n",
       "4           0.00   1960-05  "
      ]
     },
     "execution_count": 14,
     "metadata": {},
     "output_type": "execute_result"
    }
   ],
   "source": [
    "df['monthyear'] = pd.to_datetime(df['Date']).dt.to_period('M')\n",
    "df.head()"
   ]
  },
  {
   "cell_type": "code",
   "execution_count": 15,
   "id": "be87451b",
   "metadata": {
    "execution": {
     "iopub.execute_input": "2022-06-24T11:40:49.655431Z",
     "iopub.status.busy": "2022-06-24T11:40:49.654881Z",
     "iopub.status.idle": "2022-06-24T11:40:50.203167Z",
     "shell.execute_reply": "2022-06-24T11:40:50.202566Z"
    },
    "papermill": {
     "duration": 0.563841,
     "end_time": "2022-06-24T11:40:50.205466",
     "exception": false,
     "start_time": "2022-06-24T11:40:49.641625",
     "status": "completed"
    },
    "tags": []
   },
   "outputs": [
    {
     "data": {
      "image/png": "[encoded data removed]",
      "text/plain": [
       "<Figure size 720x432 with 1 Axes>"
      ]
     },
     "metadata": {
      "needs_background": "light"
     },
     "output_type": "display_data"
    }
   ],
   "source": [
    "spacing = 2\n",
    "\n",
    "rng = pd.date_range('2019-05-01', periods=48, freq='m')\n",
    "\n",
    "blah = pd.DataFrame(data = np.random.randn(len(rng)), index=rng)\n",
    "\n",
    "fig = plt.figure(figsize = (10,6))\n",
    "ax = fig.add_subplot(111)\n",
    "\n",
    "\n",
    "blah_test = blah.copy()\n",
    "str_index = []\n",
    "for s_year,s_month in zip(blah.index.year.values,blah.index.month.values):\n",
    "    string_day = '{}-{:02d}'.format(s_year,s_month)\n",
    "    str_index.append(string_day)\n",
    "blah_test.index = str_index\n",
    "\n",
    "blah_test.plot(ax=ax, kind='bar', rot=50, color='red')\n",
    "\n",
    "for label in ax.xaxis.get_ticklabels()[::spacing]:\n",
    "    label.set_visible(False)\n",
    "    \n",
    "plt.title('FPI Monthly Percentage Change, May 2019-2022', fontsize=15, fontweight='bold')  \n",
    "plt.ylabel('Percent Change', fontsize=10)\n",
    "\n",
    "plt.tight_layout()\n",
    "\n",
    "plt.show()"
   ]
  },
  {
   "cell_type": "code",
   "execution_count": 16,
   "id": "594477ef",
   "metadata": {
    "execution": {
     "iopub.execute_input": "2022-06-24T11:40:50.232417Z",
     "iopub.status.busy": "2022-06-24T11:40:50.232065Z",
     "iopub.status.idle": "2022-06-24T11:40:50.315958Z",
     "shell.execute_reply": "2022-06-24T11:40:50.315003Z"
    },
    "papermill": {
     "duration": 0.099005,
     "end_time": "2022-06-24T11:40:50.317627",
     "exception": false,
     "start_time": "2022-06-24T11:40:50.218622",
     "status": "completed"
    },
    "tags": []
   },
   "outputs": [
    {
     "data": {
      "text/html": [
       "<div>\n",
       "<style scoped>\n",
       "    .dataframe tbody tr th:only-of-type {\n",
       "        vertical-align: middle;\n",
       "    }\n",
       "\n",
       "    .dataframe tbody tr th {\n",
       "        vertical-align: top;\n",
       "    }\n",
       "\n",
       "    .dataframe thead th {\n",
       "        text-align: right;\n",
       "    }\n",
       "</style>\n",
       "<table border=\"1\" class=\"dataframe\">\n",
       "  <thead>\n",
       "    <tr style=\"text-align: right;\">\n",
       "      <th></th>\n",
       "      <th>Series_reference</th>\n",
       "      <th>Period</th>\n",
       "      <th>Data_value</th>\n",
       "      <th>STATUS</th>\n",
       "      <th>UNITS</th>\n",
       "      <th>Subject</th>\n",
       "      <th>Group</th>\n",
       "      <th>Series_title_1</th>\n",
       "    </tr>\n",
       "  </thead>\n",
       "  <tbody>\n",
       "    <tr>\n",
       "      <th>0</th>\n",
       "      <td>CPIM.SAP0100</td>\n",
       "      <td>2006.06</td>\n",
       "      <td>3.11</td>\n",
       "      <td>FINAL</td>\n",
       "      <td>Dollars</td>\n",
       "      <td>Consumers Price Index - CPI</td>\n",
       "      <td>Food Price Index Selected Monthly Weighted Ave...</td>\n",
       "      <td>Oranges, 1kg</td>\n",
       "    </tr>\n",
       "    <tr>\n",
       "      <th>1</th>\n",
       "      <td>CPIM.SAP0100</td>\n",
       "      <td>2006.07</td>\n",
       "      <td>2.78</td>\n",
       "      <td>FINAL</td>\n",
       "      <td>Dollars</td>\n",
       "      <td>Consumers Price Index - CPI</td>\n",
       "      <td>Food Price Index Selected Monthly Weighted Ave...</td>\n",
       "      <td>Oranges, 1kg</td>\n",
       "    </tr>\n",
       "    <tr>\n",
       "      <th>2</th>\n",
       "      <td>CPIM.SAP0100</td>\n",
       "      <td>2006.08</td>\n",
       "      <td>2.43</td>\n",
       "      <td>FINAL</td>\n",
       "      <td>Dollars</td>\n",
       "      <td>Consumers Price Index - CPI</td>\n",
       "      <td>Food Price Index Selected Monthly Weighted Ave...</td>\n",
       "      <td>Oranges, 1kg</td>\n",
       "    </tr>\n",
       "    <tr>\n",
       "      <th>3</th>\n",
       "      <td>CPIM.SAP0100</td>\n",
       "      <td>2006.09</td>\n",
       "      <td>2.42</td>\n",
       "      <td>FINAL</td>\n",
       "      <td>Dollars</td>\n",
       "      <td>Consumers Price Index - CPI</td>\n",
       "      <td>Food Price Index Selected Monthly Weighted Ave...</td>\n",
       "      <td>Oranges, 1kg</td>\n",
       "    </tr>\n",
       "    <tr>\n",
       "      <th>4</th>\n",
       "      <td>CPIM.SAP0100</td>\n",
       "      <td>2006.10</td>\n",
       "      <td>3.04</td>\n",
       "      <td>FINAL</td>\n",
       "      <td>Dollars</td>\n",
       "      <td>Consumers Price Index - CPI</td>\n",
       "      <td>Food Price Index Selected Monthly Weighted Ave...</td>\n",
       "      <td>Oranges, 1kg</td>\n",
       "    </tr>\n",
       "  </tbody>\n",
       "</table>\n",
       "</div>"
      ],
      "text/plain": [
       "  Series_reference   Period  Data_value STATUS    UNITS  \\\n",
       "0     CPIM.SAP0100  2006.06        3.11  FINAL  Dollars   \n",
       "1     CPIM.SAP0100  2006.07        2.78  FINAL  Dollars   \n",
       "2     CPIM.SAP0100  2006.08        2.43  FINAL  Dollars   \n",
       "3     CPIM.SAP0100  2006.09        2.42  FINAL  Dollars   \n",
       "4     CPIM.SAP0100  2006.10        3.04  FINAL  Dollars   \n",
       "\n",
       "                       Subject  \\\n",
       "0  Consumers Price Index - CPI   \n",
       "1  Consumers Price Index - CPI   \n",
       "2  Consumers Price Index - CPI   \n",
       "3  Consumers Price Index - CPI   \n",
       "4  Consumers Price Index - CPI   \n",
       "\n",
       "                                               Group Series_title_1  \n",
       "0  Food Price Index Selected Monthly Weighted Ave...   Oranges, 1kg  \n",
       "1  Food Price Index Selected Monthly Weighted Ave...   Oranges, 1kg  \n",
       "2  Food Price Index Selected Monthly Weighted Ave...   Oranges, 1kg  \n",
       "3  Food Price Index Selected Monthly Weighted Ave...   Oranges, 1kg  \n",
       "4  Food Price Index Selected Monthly Weighted Ave...   Oranges, 1kg  "
      ]
     },
     "execution_count": 16,
     "metadata": {},
     "output_type": "execute_result"
    }
   ],
   "source": [
    "df2 = pd.read_csv(\"/kaggle/input/food-price-index-may-2022/food-price-index-may-2022-weighted-average-prices-csv.csv\")\n",
    "df2.head()"
   ]
  },
  {
   "cell_type": "code",
   "execution_count": 17,
   "id": "9b2f819e",
   "metadata": {
    "execution": {
     "iopub.execute_input": "2022-06-24T11:40:50.335698Z",
     "iopub.status.busy": "2022-06-24T11:40:50.334955Z",
     "iopub.status.idle": "2022-06-24T11:40:50.363650Z",
     "shell.execute_reply": "2022-06-24T11:40:50.362776Z"
    },
    "papermill": {
     "duration": 0.040509,
     "end_time": "2022-06-24T11:40:50.366272",
     "exception": false,
     "start_time": "2022-06-24T11:40:50.325763",
     "status": "completed"
    },
    "tags": []
   },
   "outputs": [
    {
     "name": "stdout",
     "output_type": "stream",
     "text": [
      "<class 'pandas.core.frame.DataFrame'>\n",
      "RangeIndex: 27203 entries, 0 to 27202\n",
      "Data columns (total 8 columns):\n",
      " #   Column            Non-Null Count  Dtype  \n",
      "---  ------            --------------  -----  \n",
      " 0   Series_reference  27203 non-null  object \n",
      " 1   Period            27203 non-null  float64\n",
      " 2   Data_value        27121 non-null  float64\n",
      " 3   STATUS            27203 non-null  object \n",
      " 4   UNITS             27203 non-null  object \n",
      " 5   Subject           27203 non-null  object \n",
      " 6   Group             27203 non-null  object \n",
      " 7   Series_title_1    27203 non-null  object \n",
      "dtypes: float64(2), object(6)\n",
      "memory usage: 1.7+ MB\n"
     ]
    }
   ],
   "source": [
    "df2.info()"
   ]
  },
  {
   "cell_type": "code",
   "execution_count": 18,
   "id": "69627c9d",
   "metadata": {
    "execution": {
     "iopub.execute_input": "2022-06-24T11:40:50.393997Z",
     "iopub.status.busy": "2022-06-24T11:40:50.393164Z",
     "iopub.status.idle": "2022-06-24T11:40:50.438933Z",
     "shell.execute_reply": "2022-06-24T11:40:50.437819Z"
    },
    "papermill": {
     "duration": 0.061662,
     "end_time": "2022-06-24T11:40:50.440932",
     "exception": false,
     "start_time": "2022-06-24T11:40:50.379270",
     "status": "completed"
    },
    "tags": []
   },
   "outputs": [
    {
     "data": {
      "text/html": [
       "<div>\n",
       "<style scoped>\n",
       "    .dataframe tbody tr th:only-of-type {\n",
       "        vertical-align: middle;\n",
       "    }\n",
       "\n",
       "    .dataframe tbody tr th {\n",
       "        vertical-align: top;\n",
       "    }\n",
       "\n",
       "    .dataframe thead th {\n",
       "        text-align: right;\n",
       "    }\n",
       "</style>\n",
       "<table border=\"1\" class=\"dataframe\">\n",
       "  <thead>\n",
       "    <tr style=\"text-align: right;\">\n",
       "      <th></th>\n",
       "      <th>Series_reference</th>\n",
       "      <th>Period</th>\n",
       "      <th>Data_value</th>\n",
       "      <th>STATUS</th>\n",
       "      <th>UNITS</th>\n",
       "      <th>Subject</th>\n",
       "      <th>Group</th>\n",
       "      <th>Series_title_1</th>\n",
       "    </tr>\n",
       "  </thead>\n",
       "  <tbody>\n",
       "    <tr>\n",
       "      <th>0</th>\n",
       "      <td>CPIM.SAP0100</td>\n",
       "      <td>2006-06-01</td>\n",
       "      <td>3.11</td>\n",
       "      <td>FINAL</td>\n",
       "      <td>Dollars</td>\n",
       "      <td>Consumers Price Index - CPI</td>\n",
       "      <td>Food Price Index Selected Monthly Weighted Ave...</td>\n",
       "      <td>Oranges, 1kg</td>\n",
       "    </tr>\n",
       "    <tr>\n",
       "      <th>1</th>\n",
       "      <td>CPIM.SAP0100</td>\n",
       "      <td>2006-07-01</td>\n",
       "      <td>2.78</td>\n",
       "      <td>FINAL</td>\n",
       "      <td>Dollars</td>\n",
       "      <td>Consumers Price Index - CPI</td>\n",
       "      <td>Food Price Index Selected Monthly Weighted Ave...</td>\n",
       "      <td>Oranges, 1kg</td>\n",
       "    </tr>\n",
       "    <tr>\n",
       "      <th>2</th>\n",
       "      <td>CPIM.SAP0100</td>\n",
       "      <td>2006-08-01</td>\n",
       "      <td>2.43</td>\n",
       "      <td>FINAL</td>\n",
       "      <td>Dollars</td>\n",
       "      <td>Consumers Price Index - CPI</td>\n",
       "      <td>Food Price Index Selected Monthly Weighted Ave...</td>\n",
       "      <td>Oranges, 1kg</td>\n",
       "    </tr>\n",
       "    <tr>\n",
       "      <th>3</th>\n",
       "      <td>CPIM.SAP0100</td>\n",
       "      <td>2006-09-01</td>\n",
       "      <td>2.42</td>\n",
       "      <td>FINAL</td>\n",
       "      <td>Dollars</td>\n",
       "      <td>Consumers Price Index - CPI</td>\n",
       "      <td>Food Price Index Selected Monthly Weighted Ave...</td>\n",
       "      <td>Oranges, 1kg</td>\n",
       "    </tr>\n",
       "    <tr>\n",
       "      <th>4</th>\n",
       "      <td>CPIM.SAP0100</td>\n",
       "      <td>2006-01-01</td>\n",
       "      <td>3.04</td>\n",
       "      <td>FINAL</td>\n",
       "      <td>Dollars</td>\n",
       "      <td>Consumers Price Index - CPI</td>\n",
       "      <td>Food Price Index Selected Monthly Weighted Ave...</td>\n",
       "      <td>Oranges, 1kg</td>\n",
       "    </tr>\n",
       "  </tbody>\n",
       "</table>\n",
       "</div>"
      ],
      "text/plain": [
       "  Series_reference     Period  Data_value STATUS    UNITS  \\\n",
       "0     CPIM.SAP0100 2006-06-01        3.11  FINAL  Dollars   \n",
       "1     CPIM.SAP0100 2006-07-01        2.78  FINAL  Dollars   \n",
       "2     CPIM.SAP0100 2006-08-01        2.43  FINAL  Dollars   \n",
       "3     CPIM.SAP0100 2006-09-01        2.42  FINAL  Dollars   \n",
       "4     CPIM.SAP0100 2006-01-01        3.04  FINAL  Dollars   \n",
       "\n",
       "                       Subject  \\\n",
       "0  Consumers Price Index - CPI   \n",
       "1  Consumers Price Index - CPI   \n",
       "2  Consumers Price Index - CPI   \n",
       "3  Consumers Price Index - CPI   \n",
       "4  Consumers Price Index - CPI   \n",
       "\n",
       "                                               Group Series_title_1  \n",
       "0  Food Price Index Selected Monthly Weighted Ave...   Oranges, 1kg  \n",
       "1  Food Price Index Selected Monthly Weighted Ave...   Oranges, 1kg  \n",
       "2  Food Price Index Selected Monthly Weighted Ave...   Oranges, 1kg  \n",
       "3  Food Price Index Selected Monthly Weighted Ave...   Oranges, 1kg  \n",
       "4  Food Price Index Selected Monthly Weighted Ave...   Oranges, 1kg  "
      ]
     },
     "execution_count": 18,
     "metadata": {},
     "output_type": "execute_result"
    }
   ],
   "source": [
    "df2['Period'] = pd.to_datetime(df2['Period'].astype(str), format='%Y.%m') # convert date datatype from float to datetime\n",
    "df2.head()"
   ]
  },
  {
   "cell_type": "code",
   "execution_count": 19,
   "id": "62d71881",
   "metadata": {
    "execution": {
     "iopub.execute_input": "2022-06-24T11:40:50.459953Z",
     "iopub.status.busy": "2022-06-24T11:40:50.459571Z",
     "iopub.status.idle": "2022-06-24T11:40:50.472750Z",
     "shell.execute_reply": "2022-06-24T11:40:50.471540Z"
    },
    "papermill": {
     "duration": 0.025396,
     "end_time": "2022-06-24T11:40:50.474940",
     "exception": false,
     "start_time": "2022-06-24T11:40:50.449544",
     "status": "completed"
    },
    "tags": []
   },
   "outputs": [
    {
     "data": {
      "text/plain": [
       "Oranges, 1kg                                                   192\n",
       "Milk - standard homogenised, 2 litres                          192\n",
       "Cheese - mild cheddar (supermarket only), 1kg                  192\n",
       "Eggs, dozen                                                    192\n",
       "Butter - salted, 500g                                          192\n",
       "                                                              ... \n",
       "Chicken pieces (excluding breast), boneless or bone in, 1kg     95\n",
       "Salad, leaf, packaged, 150g                                     95\n",
       "Fresh herbs, packaged, chilled                                  56\n",
       "Olives, jar, 400g                                               56\n",
       "Tea bags, flavoured or herbal, box of 25                        56\n",
       "Name: Series_title_1, Length: 155, dtype: int64"
      ]
     },
     "execution_count": 19,
     "metadata": {},
     "output_type": "execute_result"
    }
   ],
   "source": [
    "df2['Series_title_1'].value_counts()"
   ]
  },
  {
   "cell_type": "code",
   "execution_count": 20,
   "id": "054f67a4",
   "metadata": {
    "execution": {
     "iopub.execute_input": "2022-06-24T11:40:50.495567Z",
     "iopub.status.busy": "2022-06-24T11:40:50.494330Z",
     "iopub.status.idle": "2022-06-24T11:40:50.514216Z",
     "shell.execute_reply": "2022-06-24T11:40:50.513155Z"
    },
    "papermill": {
     "duration": 0.031973,
     "end_time": "2022-06-24T11:40:50.516039",
     "exception": false,
     "start_time": "2022-06-24T11:40:50.484066",
     "status": "completed"
    },
    "tags": []
   },
   "outputs": [
    {
     "data": {
      "text/html": [
       "<div>\n",
       "<style scoped>\n",
       "    .dataframe tbody tr th:only-of-type {\n",
       "        vertical-align: middle;\n",
       "    }\n",
       "\n",
       "    .dataframe tbody tr th {\n",
       "        vertical-align: top;\n",
       "    }\n",
       "\n",
       "    .dataframe thead th {\n",
       "        text-align: right;\n",
       "    }\n",
       "</style>\n",
       "<table border=\"1\" class=\"dataframe\">\n",
       "  <thead>\n",
       "    <tr style=\"text-align: right;\">\n",
       "      <th></th>\n",
       "      <th>Series_reference</th>\n",
       "      <th>Period</th>\n",
       "      <th>Data_value</th>\n",
       "      <th>STATUS</th>\n",
       "      <th>UNITS</th>\n",
       "      <th>Subject</th>\n",
       "      <th>Group</th>\n",
       "      <th>Series_title_1</th>\n",
       "      <th>Monthly_PercentChange</th>\n",
       "    </tr>\n",
       "  </thead>\n",
       "  <tbody>\n",
       "    <tr>\n",
       "      <th>0</th>\n",
       "      <td>CPIM.SAP0100</td>\n",
       "      <td>2006-06-01</td>\n",
       "      <td>3.11</td>\n",
       "      <td>FINAL</td>\n",
       "      <td>Dollars</td>\n",
       "      <td>Consumers Price Index - CPI</td>\n",
       "      <td>Food Price Index Selected Monthly Weighted Ave...</td>\n",
       "      <td>Oranges, 1kg</td>\n",
       "      <td>NaN</td>\n",
       "    </tr>\n",
       "    <tr>\n",
       "      <th>1</th>\n",
       "      <td>CPIM.SAP0100</td>\n",
       "      <td>2006-07-01</td>\n",
       "      <td>2.78</td>\n",
       "      <td>FINAL</td>\n",
       "      <td>Dollars</td>\n",
       "      <td>Consumers Price Index - CPI</td>\n",
       "      <td>Food Price Index Selected Monthly Weighted Ave...</td>\n",
       "      <td>Oranges, 1kg</td>\n",
       "      <td>-0.11</td>\n",
       "    </tr>\n",
       "    <tr>\n",
       "      <th>2</th>\n",
       "      <td>CPIM.SAP0100</td>\n",
       "      <td>2006-08-01</td>\n",
       "      <td>2.43</td>\n",
       "      <td>FINAL</td>\n",
       "      <td>Dollars</td>\n",
       "      <td>Consumers Price Index - CPI</td>\n",
       "      <td>Food Price Index Selected Monthly Weighted Ave...</td>\n",
       "      <td>Oranges, 1kg</td>\n",
       "      <td>-0.13</td>\n",
       "    </tr>\n",
       "    <tr>\n",
       "      <th>3</th>\n",
       "      <td>CPIM.SAP0100</td>\n",
       "      <td>2006-09-01</td>\n",
       "      <td>2.42</td>\n",
       "      <td>FINAL</td>\n",
       "      <td>Dollars</td>\n",
       "      <td>Consumers Price Index - CPI</td>\n",
       "      <td>Food Price Index Selected Monthly Weighted Ave...</td>\n",
       "      <td>Oranges, 1kg</td>\n",
       "      <td>-0.00</td>\n",
       "    </tr>\n",
       "    <tr>\n",
       "      <th>4</th>\n",
       "      <td>CPIM.SAP0100</td>\n",
       "      <td>2006-01-01</td>\n",
       "      <td>3.04</td>\n",
       "      <td>FINAL</td>\n",
       "      <td>Dollars</td>\n",
       "      <td>Consumers Price Index - CPI</td>\n",
       "      <td>Food Price Index Selected Monthly Weighted Ave...</td>\n",
       "      <td>Oranges, 1kg</td>\n",
       "      <td>0.26</td>\n",
       "    </tr>\n",
       "  </tbody>\n",
       "</table>\n",
       "</div>"
      ],
      "text/plain": [
       "  Series_reference     Period  Data_value STATUS    UNITS  \\\n",
       "0     CPIM.SAP0100 2006-06-01        3.11  FINAL  Dollars   \n",
       "1     CPIM.SAP0100 2006-07-01        2.78  FINAL  Dollars   \n",
       "2     CPIM.SAP0100 2006-08-01        2.43  FINAL  Dollars   \n",
       "3     CPIM.SAP0100 2006-09-01        2.42  FINAL  Dollars   \n",
       "4     CPIM.SAP0100 2006-01-01        3.04  FINAL  Dollars   \n",
       "\n",
       "                       Subject  \\\n",
       "0  Consumers Price Index - CPI   \n",
       "1  Consumers Price Index - CPI   \n",
       "2  Consumers Price Index - CPI   \n",
       "3  Consumers Price Index - CPI   \n",
       "4  Consumers Price Index - CPI   \n",
       "\n",
       "                                               Group Series_title_1  \\\n",
       "0  Food Price Index Selected Monthly Weighted Ave...   Oranges, 1kg   \n",
       "1  Food Price Index Selected Monthly Weighted Ave...   Oranges, 1kg   \n",
       "2  Food Price Index Selected Monthly Weighted Ave...   Oranges, 1kg   \n",
       "3  Food Price Index Selected Monthly Weighted Ave...   Oranges, 1kg   \n",
       "4  Food Price Index Selected Monthly Weighted Ave...   Oranges, 1kg   \n",
       "\n",
       "   Monthly_PercentChange  \n",
       "0                    NaN  \n",
       "1                  -0.11  \n",
       "2                  -0.13  \n",
       "3                  -0.00  \n",
       "4                   0.26  "
      ]
     },
     "execution_count": 20,
     "metadata": {},
     "output_type": "execute_result"
    }
   ],
   "source": [
    "df2['Monthly_PercentChange'] = round(df2['Data_value'].pct_change(),2) # Adding new column Percent Change for monthly change in price\n",
    "df2.head()"
   ]
  },
  {
   "cell_type": "code",
   "execution_count": 21,
   "id": "35815b81",
   "metadata": {
    "execution": {
     "iopub.execute_input": "2022-06-24T11:40:50.534924Z",
     "iopub.status.busy": "2022-06-24T11:40:50.534585Z",
     "iopub.status.idle": "2022-06-24T11:40:50.547519Z",
     "shell.execute_reply": "2022-06-24T11:40:50.546270Z"
    },
    "papermill": {
     "duration": 0.02479,
     "end_time": "2022-06-24T11:40:50.549583",
     "exception": false,
     "start_time": "2022-06-24T11:40:50.524793",
     "status": "completed"
    },
    "tags": []
   },
   "outputs": [
    {
     "data": {
      "text/plain": [
       "Oranges, 1kg                                     192\n",
       "Milk - standard homogenised, 2 litres            192\n",
       "Cheese - mild cheddar (supermarket only), 1kg    192\n",
       "Eggs, dozen                                      192\n",
       "Butter - salted, 500g                            192\n",
       "Sugar - white, 1.5kg                             192\n",
       "Chocolate - block (supermarket only), 250g       192\n",
       "Spaghetti - canned, 420g                         192\n",
       "Coffee - instant, 100g                           192\n",
       "Tea bags (supermarket only), box of 100          192\n",
       "Name: Series_title_1, dtype: int64"
      ]
     },
     "execution_count": 21,
     "metadata": {},
     "output_type": "execute_result"
    }
   ],
   "source": [
    "by_food_category = df2.Series_title_1.value_counts()\n",
    "top_10_Series_title_1 = by_food_category[:10]\n",
    "top_10_Series_title_1"
   ]
  },
  {
   "cell_type": "code",
   "execution_count": 22,
   "id": "bd39f4bb",
   "metadata": {
    "execution": {
     "iopub.execute_input": "2022-06-24T11:40:50.579575Z",
     "iopub.status.busy": "2022-06-24T11:40:50.578416Z",
     "iopub.status.idle": "2022-06-24T11:40:51.120239Z",
     "shell.execute_reply": "2022-06-24T11:40:51.119202Z"
    },
    "papermill": {
     "duration": 0.558957,
     "end_time": "2022-06-24T11:40:51.122531",
     "exception": false,
     "start_time": "2022-06-24T11:40:50.563574",
     "status": "completed"
    },
    "tags": []
   },
   "outputs": [
    {
     "data": {
      "image/png": "[encoded data removed]",
      "text/plain": [
       "<Figure size 1080x432 with 1 Axes>"
      ]
     },
     "metadata": {
      "needs_background": "light"
     },
     "output_type": "display_data"
    }
   ],
   "source": [
    "df2.plot(figsize=(15, 6))\n",
    "plt.show()"
   ]
  },
  {
   "cell_type": "code",
   "execution_count": null,
   "id": "9ab8eb96",
   "metadata": {
    "papermill": {
     "duration": 0.013957,
     "end_time": "2022-06-24T11:40:51.150995",
     "exception": false,
     "start_time": "2022-06-24T11:40:51.137038",
     "status": "completed"
    },
    "tags": []
   },
   "outputs": [],
   "source": []
  },
  {
   "cell_type": "code",
   "execution_count": null,
   "id": "d3f5ae8b",
   "metadata": {
    "execution": {
     "iopub.execute_input": "2022-06-24T11:35:42.406974Z",
     "iopub.status.busy": "2022-06-24T11:35:42.406584Z",
     "iopub.status.idle": "2022-06-24T11:35:42.414423Z",
     "shell.execute_reply": "2022-06-24T11:35:42.413601Z",
     "shell.execute_reply.started": "2022-06-24T11:35:42.40694Z"
    },
    "papermill": {
     "duration": 0.014404,
     "end_time": "2022-06-24T11:40:51.180071",
     "exception": false,
     "start_time": "2022-06-24T11:40:51.165667",
     "status": "completed"
    },
    "tags": []
   },
   "outputs": [],
   "source": []
  }
 ],
 "metadata": {
  "kernelspec": {
   "display_name": "Python 3",
   "language": "python",
   "name": "python3"
  },
  "language_info": {
   "codemirror_mode": {
    "name": "ipython",
    "version": 3
   },
   "file_extension": ".py",
   "mimetype": "text/x-python",
   "name": "python",
   "nbconvert_exporter": "python",
   "pygments_lexer": "ipython3",
   "version": "3.7.12"
  },
  "papermill": {
   "default_parameters": {},
   "duration": 16.084556,
   "end_time": "2022-06-24T11:40:52.115379",
   "environment_variables": {},
   "exception": null,
   "input_path": "__notebook__.ipynb",
   "output_path": "__notebook__.ipynb",
   "parameters": {},
   "start_time": "2022-06-24T11:40:36.030823",
   "version": "2.3.4"
  }
 },
 "nbformat": 4,
 "nbformat_minor": 5
}
